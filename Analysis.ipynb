{
 "cells": [
  {
   "cell_type": "markdown",
   "metadata": {},
   "source": [
    "### Table of contents <a class='anchor' id='table'>"
   ]
  },
  {
   "cell_type": "markdown",
   "metadata": {},
   "source": [
    "* [Read data](#read)\n",
    "* [Basic model](#basic)\n",
    "* [Models with controls](#control)\n",
    " * [Model 1](#model1)\n",
    " * [Model 2](#model2)\n",
    " * [Model 3](#model3)\n",
    "* [Graphics](#graphics)\n",
    "* [Interaction model](#interaction)\n",
    "    * [Model 2.1](#model2.1)\n",
    "    * [Model 2.2](#model2.2)\n",
    "    * [Model 2.3](#model2.3)\n",
    "* [Graphics 2](#graphics2)\n",
    "* [Instrumental variables](#IV)\n",
    "* [IRT model](#IRT)\n",
    " * [Model 3.1](#model3.1)\n",
    " * [Model 3.2](#model3.2)\n",
    " * [Model 3.3](#model3.3)\n",
    "* [Graphics 3](#graphics3)"
   ]
  },
  {
   "cell_type": "code",
   "execution_count": 1,
   "metadata": {},
   "outputs": [],
   "source": [
    "import pandas as pd\n",
    "import numpy as np\n",
    "from statsmodels.discrete.discrete_model import Logit\n",
    "from statsmodels.regression.linear_model import OLS\n",
    "from statsmodels.api import add_constant\n",
    "# from plotnine import *\n",
    "# from scipy.stats import chi2\n",
    "# from scipy.stats import logistic \n",
    "# from sklearn.preprocessing import StandardScaler\n",
    "# from statsmodels.tsa.tsatools import lagmat\n",
    "# import statsmodels as sm\n",
    "# from statsmodels.tools.tools import add_constant\n",
    "# from statsmodels.iolib.summary2 import summary_col\n",
    "# from stargazer.stargazer import Stargazer"
   ]
  },
  {
   "cell_type": "code",
   "execution_count": 3,
   "metadata": {},
   "outputs": [],
   "source": [
    "def logistic_cdf(x):\n",
    "    return 1/(1 + np.exp(-x))"
   ]
  },
  {
   "cell_type": "markdown",
   "metadata": {},
   "source": [
    "## Read data <a class='anchor' id='read'>"
   ]
  },
  {
   "cell_type": "code",
   "execution_count": 2,
   "metadata": {},
   "outputs": [],
   "source": [
    "rebel = pd.read_csv('data_vkr.csv')\n",
    "rebel['total_governance'] = rebel['Education'] + rebel['Health'] +  rebel['Aid'] + rebel['Housing'] +  rebel['Law'] +  rebel['Infrastructure'] +  rebel['Transportation'] +  rebel['Justice'] +  rebel['Policing']\n",
    "# rebel_cluster = rebel.dropna(axis=0, subset=['reb_intervention','total_governance'])"
   ]
  },
  {
   "cell_type": "code",
   "execution_count": 28,
   "metadata": {},
   "outputs": [
    {
     "data": {
      "text/html": [
       "<div>\n",
       "<style scoped>\n",
       "    .dataframe tbody tr th:only-of-type {\n",
       "        vertical-align: middle;\n",
       "    }\n",
       "\n",
       "    .dataframe tbody tr th {\n",
       "        vertical-align: top;\n",
       "    }\n",
       "\n",
       "    .dataframe thead th {\n",
       "        text-align: right;\n",
       "    }\n",
       "</style>\n",
       "<table border=\"1\" class=\"dataframe\">\n",
       "  <thead>\n",
       "    <tr style=\"text-align: right;\">\n",
       "      <th></th>\n",
       "      <th>reb_intervention</th>\n",
       "      <th>total_governance</th>\n",
       "    </tr>\n",
       "    <tr>\n",
       "      <th>SideB</th>\n",
       "      <th></th>\n",
       "      <th></th>\n",
       "    </tr>\n",
       "  </thead>\n",
       "  <tbody>\n",
       "    <tr>\n",
       "      <th>Tibet</th>\n",
       "      <td>0.000000</td>\n",
       "      <td>393.0</td>\n",
       "    </tr>\n",
       "    <tr>\n",
       "      <th>KNU</th>\n",
       "      <td>0.000000</td>\n",
       "      <td>329.0</td>\n",
       "    </tr>\n",
       "    <tr>\n",
       "      <th>POLISARIO</th>\n",
       "      <td>0.025000</td>\n",
       "      <td>248.0</td>\n",
       "    </tr>\n",
       "    <tr>\n",
       "      <th>KIO (KIA)</th>\n",
       "      <td>0.000000</td>\n",
       "      <td>201.0</td>\n",
       "    </tr>\n",
       "    <tr>\n",
       "      <th>PLO groups</th>\n",
       "      <td>0.020408</td>\n",
       "      <td>195.0</td>\n",
       "    </tr>\n",
       "    <tr>\n",
       "      <th>DPK</th>\n",
       "      <td>0.104478</td>\n",
       "      <td>193.0</td>\n",
       "    </tr>\n",
       "    <tr>\n",
       "      <th>PUK</th>\n",
       "      <td>0.184211</td>\n",
       "      <td>157.0</td>\n",
       "    </tr>\n",
       "    <tr>\n",
       "      <th>Hezbollah</th>\n",
       "      <td>0.387097</td>\n",
       "      <td>153.0</td>\n",
       "    </tr>\n",
       "    <tr>\n",
       "      <th>Hamas</th>\n",
       "      <td>0.300000</td>\n",
       "      <td>150.0</td>\n",
       "    </tr>\n",
       "    <tr>\n",
       "      <th>Republic of Abkhazia</th>\n",
       "      <td>0.086957</td>\n",
       "      <td>147.0</td>\n",
       "    </tr>\n",
       "    <tr>\n",
       "      <th>PMR</th>\n",
       "      <td>0.000000</td>\n",
       "      <td>132.0</td>\n",
       "    </tr>\n",
       "    <tr>\n",
       "      <th>LTTE-opposite</th>\n",
       "      <td>0.073171</td>\n",
       "      <td>101.0</td>\n",
       "    </tr>\n",
       "    <tr>\n",
       "      <th>Pathet Lao</th>\n",
       "      <td>0.181818</td>\n",
       "      <td>100.0</td>\n",
       "    </tr>\n",
       "    <tr>\n",
       "      <th>TPLF</th>\n",
       "      <td>0.000000</td>\n",
       "      <td>98.0</td>\n",
       "    </tr>\n",
       "    <tr>\n",
       "      <th>SNM</th>\n",
       "      <td>0.156250</td>\n",
       "      <td>93.0</td>\n",
       "    </tr>\n",
       "    <tr>\n",
       "      <th>CPB</th>\n",
       "      <td>0.046512</td>\n",
       "      <td>74.0</td>\n",
       "    </tr>\n",
       "    <tr>\n",
       "      <th>Republic of Nagorno-Karabakh</th>\n",
       "      <td>0.080000</td>\n",
       "      <td>64.0</td>\n",
       "    </tr>\n",
       "    <tr>\n",
       "      <th>SSDF</th>\n",
       "      <td>0.000000</td>\n",
       "      <td>63.0</td>\n",
       "    </tr>\n",
       "    <tr>\n",
       "      <th>UNITA</th>\n",
       "      <td>0.216216</td>\n",
       "      <td>62.0</td>\n",
       "    </tr>\n",
       "    <tr>\n",
       "      <th>PLA</th>\n",
       "      <td>0.000000</td>\n",
       "      <td>60.0</td>\n",
       "    </tr>\n",
       "    <tr>\n",
       "      <th>SPLM/A</th>\n",
       "      <td>0.000000</td>\n",
       "      <td>58.0</td>\n",
       "    </tr>\n",
       "    <tr>\n",
       "      <th>PKK/Kadek/KONGRA-GEL</th>\n",
       "      <td>0.028571</td>\n",
       "      <td>49.0</td>\n",
       "    </tr>\n",
       "    <tr>\n",
       "      <th>HUK</th>\n",
       "      <td>0.000000</td>\n",
       "      <td>45.0</td>\n",
       "    </tr>\n",
       "    <tr>\n",
       "      <th>Patani insurgents</th>\n",
       "      <td>0.000000</td>\n",
       "      <td>41.0</td>\n",
       "    </tr>\n",
       "    <tr>\n",
       "      <th>NSCN - IM</th>\n",
       "      <td>0.105263</td>\n",
       "      <td>36.0</td>\n",
       "    </tr>\n",
       "    <tr>\n",
       "      <th>OLF</th>\n",
       "      <td>0.000000</td>\n",
       "      <td>36.0</td>\n",
       "    </tr>\n",
       "    <tr>\n",
       "      <th>Al-Mahdi Army</th>\n",
       "      <td>0.500000</td>\n",
       "      <td>35.0</td>\n",
       "    </tr>\n",
       "    <tr>\n",
       "      <th>ANC(African National Congress)</th>\n",
       "      <td>0.060000</td>\n",
       "      <td>34.0</td>\n",
       "    </tr>\n",
       "    <tr>\n",
       "      <th>EPLF</th>\n",
       "      <td>0.000000</td>\n",
       "      <td>32.0</td>\n",
       "    </tr>\n",
       "    <tr>\n",
       "      <th>ADF</th>\n",
       "      <td>0.000000</td>\n",
       "      <td>30.0</td>\n",
       "    </tr>\n",
       "    <tr>\n",
       "      <th>CPI-M (communist)</th>\n",
       "      <td>0.000000</td>\n",
       "      <td>30.0</td>\n",
       "    </tr>\n",
       "    <tr>\n",
       "      <th>NNC</th>\n",
       "      <td>0.000000</td>\n",
       "      <td>30.0</td>\n",
       "    </tr>\n",
       "    <tr>\n",
       "      <th>SSA</th>\n",
       "      <td>0.000000</td>\n",
       "      <td>29.0</td>\n",
       "    </tr>\n",
       "    <tr>\n",
       "      <th>SSA-S</th>\n",
       "      <td>0.000000</td>\n",
       "      <td>28.0</td>\n",
       "    </tr>\n",
       "    <tr>\n",
       "      <th>Renamo</th>\n",
       "      <td>0.157895</td>\n",
       "      <td>26.0</td>\n",
       "    </tr>\n",
       "    <tr>\n",
       "      <th>SURA</th>\n",
       "      <td>0.000000</td>\n",
       "      <td>26.0</td>\n",
       "    </tr>\n",
       "    <tr>\n",
       "      <th>KPNLF</th>\n",
       "      <td>0.000000</td>\n",
       "      <td>25.0</td>\n",
       "    </tr>\n",
       "    <tr>\n",
       "      <th>BRA</th>\n",
       "      <td>0.000000</td>\n",
       "      <td>24.0</td>\n",
       "    </tr>\n",
       "    <tr>\n",
       "      <th>Darul Islam</th>\n",
       "      <td>0.000000</td>\n",
       "      <td>24.0</td>\n",
       "    </tr>\n",
       "    <tr>\n",
       "      <th>PIRA</th>\n",
       "      <td>0.000000</td>\n",
       "      <td>23.0</td>\n",
       "    </tr>\n",
       "    <tr>\n",
       "      <th>Communist Party</th>\n",
       "      <td>0.400000</td>\n",
       "      <td>21.0</td>\n",
       "    </tr>\n",
       "    <tr>\n",
       "      <th>BDPS</th>\n",
       "      <td>0.000000</td>\n",
       "      <td>20.0</td>\n",
       "    </tr>\n",
       "    <tr>\n",
       "      <th>Fretilin</th>\n",
       "      <td>0.034483</td>\n",
       "      <td>19.0</td>\n",
       "    </tr>\n",
       "    <tr>\n",
       "      <th>MTA</th>\n",
       "      <td>0.000000</td>\n",
       "      <td>19.0</td>\n",
       "    </tr>\n",
       "    <tr>\n",
       "      <th>MPCI</th>\n",
       "      <td>0.166667</td>\n",
       "      <td>18.0</td>\n",
       "    </tr>\n",
       "    <tr>\n",
       "      <th>FUNC</th>\n",
       "      <td>0.086957</td>\n",
       "      <td>18.0</td>\n",
       "    </tr>\n",
       "    <tr>\n",
       "      <th>CPP (NPA, ABB, RPA)</th>\n",
       "      <td>0.000000</td>\n",
       "      <td>18.0</td>\n",
       "    </tr>\n",
       "    <tr>\n",
       "      <th>Taleban</th>\n",
       "      <td>0.000000</td>\n",
       "      <td>18.0</td>\n",
       "    </tr>\n",
       "    <tr>\n",
       "      <th>RUF</th>\n",
       "      <td>0.333333</td>\n",
       "      <td>17.0</td>\n",
       "    </tr>\n",
       "    <tr>\n",
       "      <th>Sendero Luminoso</th>\n",
       "      <td>0.000000</td>\n",
       "      <td>17.0</td>\n",
       "    </tr>\n",
       "  </tbody>\n",
       "</table>\n",
       "</div>"
      ],
      "text/plain": [
       "                                reb_intervention  total_governance\n",
       "SideB                                                             \n",
       "Tibet                                   0.000000             393.0\n",
       "KNU                                     0.000000             329.0\n",
       "POLISARIO                               0.025000             248.0\n",
       "KIO (KIA)                               0.000000             201.0\n",
       "PLO groups                              0.020408             195.0\n",
       "DPK                                     0.104478             193.0\n",
       "PUK                                     0.184211             157.0\n",
       "Hezbollah                               0.387097             153.0\n",
       "Hamas                                   0.300000             150.0\n",
       "Republic of Abkhazia                    0.086957             147.0\n",
       "PMR                                     0.000000             132.0\n",
       "LTTE-opposite                           0.073171             101.0\n",
       "Pathet Lao                              0.181818             100.0\n",
       "TPLF                                    0.000000              98.0\n",
       "SNM                                     0.156250              93.0\n",
       "CPB                                     0.046512              74.0\n",
       "Republic of Nagorno-Karabakh            0.080000              64.0\n",
       "SSDF                                    0.000000              63.0\n",
       "UNITA                                   0.216216              62.0\n",
       "PLA                                     0.000000              60.0\n",
       "SPLM/A                                  0.000000              58.0\n",
       "PKK/Kadek/KONGRA-GEL                    0.028571              49.0\n",
       "HUK                                     0.000000              45.0\n",
       "Patani insurgents                       0.000000              41.0\n",
       "NSCN - IM                               0.105263              36.0\n",
       "OLF                                     0.000000              36.0\n",
       "Al-Mahdi Army                           0.500000              35.0\n",
       "ANC(African National Congress)          0.060000              34.0\n",
       "EPLF                                    0.000000              32.0\n",
       "ADF                                     0.000000              30.0\n",
       "CPI-M (communist)                       0.000000              30.0\n",
       "NNC                                     0.000000              30.0\n",
       "SSA                                     0.000000              29.0\n",
       "SSA-S                                   0.000000              28.0\n",
       "Renamo                                  0.157895              26.0\n",
       "SURA                                    0.000000              26.0\n",
       "KPNLF                                   0.000000              25.0\n",
       "BRA                                     0.000000              24.0\n",
       "Darul Islam                             0.000000              24.0\n",
       "PIRA                                    0.000000              23.0\n",
       "Communist Party                         0.400000              21.0\n",
       "BDPS                                    0.000000              20.0\n",
       "Fretilin                                0.034483              19.0\n",
       "MTA                                     0.000000              19.0\n",
       "MPCI                                    0.166667              18.0\n",
       "FUNC                                    0.086957              18.0\n",
       "CPP (NPA, ABB, RPA)                     0.000000              18.0\n",
       "Taleban                                 0.000000              18.0\n",
       "RUF                                     0.333333              17.0\n",
       "Sendero Luminoso                        0.000000              17.0"
      ]
     },
     "execution_count": 28,
     "metadata": {},
     "output_type": "execute_result"
    }
   ],
   "source": [
    "pd.pivot_table(rebel, values=['total_governance','reb_intervention'], index=['SideB'],\n",
    "                    aggfunc={'total_governance': np.sum,\n",
    "                             'reb_intervention': np.mean}).sort_values(by = ['total_governance','reb_intervention'],ascending = False)[0:50]"
   ]
  },
  {
   "cell_type": "code",
   "execution_count": 20,
   "metadata": {},
   "outputs": [
    {
     "data": {
      "text/plain": [
       "0.0"
      ]
     },
     "execution_count": 20,
     "metadata": {},
     "output_type": "execute_result"
    }
   ],
   "source": [
    "rebel.loc[rebel['SideB'] == 'KNU','reb_intervention'].mean()"
   ]
  },
  {
   "cell_type": "code",
   "execution_count": 23,
   "metadata": {},
   "outputs": [
    {
     "data": {
      "text/plain": [
       "0.0"
      ]
     },
     "execution_count": 23,
     "metadata": {},
     "output_type": "execute_result"
    }
   ],
   "source": [
    "rebel.loc[rebel['SideB'] == 'KIO (KIA)','reb_intervention'].mean()"
   ]
  },
  {
   "cell_type": "markdown",
   "metadata": {},
   "source": [
    "## Basic model <a class='anchor' id='basic'>"
   ]
  },
  {
   "cell_type": "markdown",
   "metadata": {},
   "source": [
    "* [Table of contents](#table)"
   ]
  },
  {
   "cell_type": "code",
   "execution_count": 46,
   "metadata": {},
   "outputs": [
    {
     "name": "stdout",
     "output_type": "stream",
     "text": [
      "Optimization terminated successfully.\n",
      "         Current function value: 0.171365\n",
      "         Iterations 7\n",
      "                           Logit Regression Results                           \n",
      "==============================================================================\n",
      "Dep. Variable:       reb_intervention   No. Observations:                 4412\n",
      "Model:                          Logit   Df Residuals:                     4410\n",
      "Method:                           MLE   Df Model:                            1\n",
      "Date:                Wed, 09 Nov 2022   Pseudo R-squ.:                0.003112\n",
      "Time:                        17:25:11   Log-Likelihood:                -756.06\n",
      "converged:                       True   LL-Null:                       -758.42\n",
      "Covariance Type:            nonrobust   LLR p-value:                   0.02982\n",
      "==============================================================================\n",
      "                 coef    std err          z      P>|z|      [0.025      0.975]\n",
      "------------------------------------------------------------------------------\n",
      "Intercept     -3.2275      0.086    -37.319      0.000      -3.397      -3.058\n",
      "Justice        0.4025      0.179      2.246      0.025       0.051       0.754\n",
      "==============================================================================\n"
     ]
    }
   ],
   "source": [
    "model = Logit.from_formula('reb_intervention ~ total_governance + political_governance', \n",
    "                                                      data = rebel)\n",
    "results = model.fit()\n",
    "print(results.summary())"
   ]
  },
  {
   "cell_type": "code",
   "execution_count": 10,
   "metadata": {},
   "outputs": [],
   "source": [
    "X = rebel_cluster[['total_governance']]\n",
    "X = add_constant(X)\n",
    "X.rename(columns = {'const':'Intercept'}, inplace = True)\n",
    "data_plot = X.copy()"
   ]
  },
  {
   "cell_type": "code",
   "execution_count": 11,
   "metadata": {},
   "outputs": [
    {
     "data": {
      "image/png": "[encoded data removed]",
      "text/plain": [
       "<Figure size 640x480 with 1 Axes>"
      ]
     },
     "metadata": {},
     "output_type": "display_data"
    },
    {
     "name": "stdout",
     "output_type": "stream",
     "text": [
      "<ggplot: (126752479257)>\n"
     ]
    }
   ],
   "source": [
    "variance_covariance = results.cov_params()\n",
    "data_indvars = data_plot\n",
    "log_odds = np.dot(data_indvars, results.params)\n",
    "standard_errors = np.dot(data_indvars, variance_covariance)\n",
    "standard_errors = np.dot(standard_errors, np.transpose(data_indvars))\n",
    "standard_errors = np.sqrt(np.diag(standard_errors))\n",
    "data_plotting = pd.DataFrame({'Predicted Probabilities': logistic_cdf(log_odds),\n",
    "                              'ub': logistic_cdf(log_odds + 1.96*standard_errors),\n",
    "                              'lb': logistic_cdf(log_odds - 1.96*standard_errors),\n",
    "                              'Rebel Governance': data_plot['total_governance']})\n",
    "plot = (ggplot(data_plotting, aes(x = 'Rebel Governance'))+\n",
    "        geom_line(aes(y = 'Predicted Probabilities'), linetype = 'solid', colour = 'black')+\n",
    "        geom_line(aes(y = 'ub'), linetype = 'dashed', colour = 'black') +\n",
    "        geom_line(aes(y = 'lb'), linetype = 'dashed', colour = 'black') +\n",
    "        theme_bw()) \n",
    "print(plot)\n",
    "# now we can observe a more intuitive illustration - because on y-axis we have probilities plotted"
   ]
  },
  {
   "cell_type": "markdown",
   "metadata": {},
   "source": [
    "## Model with controls <a class='anchor' id='control'>"
   ]
  },
  {
   "cell_type": "markdown",
   "metadata": {},
   "source": [
    "* [Table of contents](#table)"
   ]
  },
  {
   "cell_type": "code",
   "execution_count": 64,
   "metadata": {},
   "outputs": [],
   "source": [
    "# rebel = pd.read_csv('data_vkr.csv')\n",
    "rebel = rebel[rebel['thrdpar_code'] != 1]\n",
    "rebel['gdppc'] = np.log(rebel['gdppc'] + 1)\n",
    "rebel['Cold_war'] = 0\n",
    "rebel.loc[rebel['Year'] <= 1990,'Cold_war'] = 1\n",
    "rebel['lag'] = rebel['reb_intervention'].shift(1)\n",
    "# rebel = rebel.merge(vdem,on = ['CCD','Year'])\n",
    "rebel['polit_governance'] = rebel['Policing'] + rebel['Justice'] + rebel['NationalGov'] + rebel['LocalGov']\n",
    "rebel_cluster = rebel.dropna(axis=0, subset=['reb_intervention','total_governance','gdppc','nmc','polit_governance','OrgGov'])"
   ]
  },
  {
   "cell_type": "code",
   "execution_count": 48,
   "metadata": {},
   "outputs": [
    {
     "data": {
      "text/plain": [
       "NationalGov\n",
       "0.0    0.448235\n",
       "1.0    4.411862\n",
       "Name: total_governance, dtype: float64"
      ]
     },
     "execution_count": 48,
     "metadata": {},
     "output_type": "execute_result"
    }
   ],
   "source": [
    "rebel.groupby('NationalGov')['total_governance'].mean()"
   ]
  },
  {
   "cell_type": "code",
   "execution_count": 49,
   "metadata": {},
   "outputs": [
    {
     "data": {
      "text/plain": [
       "NationalGov\n",
       "0.0    0.040268\n",
       "1.0    0.054795\n",
       "Name: reb_intervention, dtype: float64"
      ]
     },
     "execution_count": 49,
     "metadata": {},
     "output_type": "execute_result"
    }
   ],
   "source": [
    "rebel.groupby('NationalGov')['reb_intervention'].mean()"
   ]
  },
  {
   "cell_type": "code",
   "execution_count": 62,
   "metadata": {},
   "outputs": [
    {
     "data": {
      "text/plain": [
       "array([nan, 'Other', 'Victory', 'Frozen', 'Ceasefire_regulation',\n",
       "       'Ceasefire', 'Peace'], dtype=object)"
      ]
     },
     "execution_count": 62,
     "metadata": {},
     "output_type": "execute_result"
    }
   ],
   "source": [
    "rebel['Outcome'].unique()"
   ]
  },
  {
   "cell_type": "code",
   "execution_count": 60,
   "metadata": {},
   "outputs": [
    {
     "data": {
      "text/plain": [
       "Index(['old_id', 'Year', 'actorid', 'DyadID', 'VDemID', 'CCD', 'Count',\n",
       "       'ConflictID', 'Ep', 'Location', 'SideA', 'SideB', 'ArmedConflict',\n",
       "       'Existence', 'In_Power', 'Flag', 'OrgGov', 'Elect', 'Gov', 'Border',\n",
       "       'ID', 'PoliticalParty', 'AttemptIO', 'JoinIO', 'Embassy', 'Media',\n",
       "       'Constitution', 'Pol_Other', 'Currency', 'IllegalNet', 'NegResource',\n",
       "       'Econ_Treaty', 'Taxation', 'Econ_Other', 'Education', 'Health',\n",
       "       'Infrastructure', 'Transportation', 'Law', 'Policing', 'Justice',\n",
       "       'Housing', 'ConstituencyPolitics', 'Aid', 'Soc_Other', 'ArmedForces',\n",
       "       'Mil_Other', 'territorial', 'Incomp', 'Terr',\n",
       "       'YEAR.First.Ep.Ended..final.', 'Years.of.Civil.War', 'Outcome',\n",
       "       'VicSide', 'PeaceA', 'Gov_in_Exile', 'LocalGov', 'NationalGov',\n",
       "       'PaperNatGov', 'Gov_Other', 'thrdpar_code', 'reb_intervention',\n",
       "       'gov_intervetion', 'total_governance', 'rebstrength', 'ethnic_conflict',\n",
       "       'nmc', 'oil', 'gov_intervention', 'gdppc', 'iso3c', 'political_wing',\n",
       "       'mobcap', 'rebestimate', 'centcontrol', 'ConfYears', 'Years',\n",
       "       'Ceasefire', 'Ceasefire_regulation', 'Frozen', 'Other', 'Peace',\n",
       "       'Victory', 'political_governance', 'Cold_war', 'lag',\n",
       "       'polit_governance'],\n",
       "      dtype='object')"
      ]
     },
     "execution_count": 60,
     "metadata": {},
     "output_type": "execute_result"
    }
   ],
   "source": [
    "rebel.columns"
   ]
  },
  {
   "cell_type": "code",
   "execution_count": 57,
   "metadata": {},
   "outputs": [
    {
     "data": {
      "text/plain": [
       "array(['Communist Party', 'CPB', 'NSCN - IM', 'PLO groups', 'Hamas',\n",
       "       'Hezbollah', 'Al-Mahdi Army', 'DPK', 'PUK', 'Pathet Lao',\n",
       "       'Republic of Nagorno-Karabakh', 'Republic of Abkhazia',\n",
       "       'Republic of Biafra', 'NRA', 'Renamo', 'SNM', 'MPCI'], dtype=object)"
      ]
     },
     "execution_count": 57,
     "metadata": {},
     "output_type": "execute_result"
    }
   ],
   "source": [
    "rebel[(rebel['total_governance'] >= 3) & (rebel['reb_intervention'] == 1)]['SideB'].unique()"
   ]
  },
  {
   "cell_type": "code",
   "execution_count": 55,
   "metadata": {},
   "outputs": [
    {
     "data": {
      "text/plain": [
       "array(['Communist Party', 'ELAS', 'CPB', 'NSCN - IM', 'PLO groups',\n",
       "       'Hamas', 'Fretilin', 'CPT', 'Al-Mahdi Army', 'DPK', 'PUK', 'FUNC',\n",
       "       'LTTE-opposite', 'Republic of Nagorno-Karabakh',\n",
       "       'Serbian Republic of Bosnia and Herzegovina',\n",
       "       'Serbian Republic of Krajina', 'Republic of Abkhazia',\n",
       "       'Republic of Biafra'], dtype=object)"
      ]
     },
     "execution_count": 55,
     "metadata": {},
     "output_type": "execute_result"
    }
   ],
   "source": [
    "rebel[(rebel['NationalGov'] == 1) & (rebel['reb_intervention'] == 1)]['SideB'].unique()"
   ]
  },
  {
   "cell_type": "code",
   "execution_count": 51,
   "metadata": {},
   "outputs": [
    {
     "data": {
      "text/plain": [
       "array(['Communist Party', 'Tibet', 'ELAS', 'KDPI', 'BDPS',\n",
       "       'Republic of Chechnya (Ichkeria) ',\n",
       "       'Forces of the Caucasus Emirate', 'KNU', 'CPB', 'KIO (KIA)', 'MTA',\n",
       "       'PWG', 'CPI-M (communist)', 'NNC', 'NSCN - IM', 'NSCN - K ',\n",
       "       'Sikh insurgents', 'ULFA', 'PLO groups', 'Hamas',\n",
       "       'Republic of South Moluccas', 'Darul Islam ', 'Permesta', 'PRRI',\n",
       "       'Fretilin', 'GAM', 'CPT', 'Patani insurgents', 'FNL',\n",
       "       'Ansar al-Islam', 'ISI', 'DPK', 'PUK', 'FUNC', 'BRA',\n",
       "       'LTTE-opposite', \"Jam'iyyat-i Islami-yi Afghanistan\",\n",
       "       'Junbish-i Milli-yi Islami', 'Taleban', 'PKK/Kadek/KONGRA-GEL',\n",
       "       'Republic of Croatia', 'UCK', 'Republic of Nagorno-Karabakh',\n",
       "       'Croatian Republic of Bosnia and Herzegovina',\n",
       "       'Republic of Abkhazia', 'PMR', 'Democratic Republic of Yemen',\n",
       "       'Katanga', 'CNL', 'RCD - ML', 'EPLF', 'Anya Nya/SSLM', 'SPLM/A',\n",
       "       'Republic of Biafra', 'SSDF', 'SNM', 'USC ', 'USC /SNA', 'NPFL',\n",
       "       'POLISARIO'], dtype=object)"
      ]
     },
     "execution_count": 51,
     "metadata": {},
     "output_type": "execute_result"
    }
   ],
   "source": [
    "rebel[(rebel['NationalGov'] == 1) & (rebel['reb_intervention'] == 0)]['SideB'].unique()"
   ]
  },
  {
   "cell_type": "code",
   "execution_count": 54,
   "metadata": {},
   "outputs": [
    {
     "data": {
      "text/plain": [
       "1607    0\n",
       "1608    0\n",
       "1609    0\n",
       "1610    0\n",
       "1611    0\n",
       "1612    0\n",
       "1613    0\n",
       "1614    0\n",
       "1615    0\n",
       "1616    0\n",
       "1617    0\n",
       "1618    0\n",
       "1619    0\n",
       "1620    0\n",
       "1621    0\n",
       "1622    0\n",
       "1623    0\n",
       "Name: reb_intervention, dtype: int64"
      ]
     },
     "execution_count": 54,
     "metadata": {},
     "output_type": "execute_result"
    }
   ],
   "source": [
    "rebel[rebel['SideB'] == 'Darul Islam ']['reb_intervention']"
   ]
  },
  {
   "cell_type": "markdown",
   "metadata": {},
   "source": [
    "### Model 1 <a class='anchor' id='model1'>"
   ]
  },
  {
   "cell_type": "code",
   "execution_count": 66,
   "metadata": {},
   "outputs": [
    {
     "name": "stdout",
     "output_type": "stream",
     "text": [
      "                           Logit Regression Results                           \n",
      "==============================================================================\n",
      "Dep. Variable:       reb_intervention   No. Observations:                 3882\n",
      "Model:                          Logit   Df Residuals:                     3877\n",
      "Method:                           MLE   Df Model:                            4\n",
      "Date:                Wed, 09 Nov 2022   Pseudo R-squ.:                 0.04289\n",
      "Time:                        17:43:33   Log-Likelihood:                -641.29\n",
      "converged:                       True   LL-Null:                       -670.03\n",
      "Covariance Type:              cluster   LLR p-value:                 9.808e-12\n",
      "====================================================================================\n",
      "                       coef    std err          z      P>|z|      [0.025      0.975]\n",
      "------------------------------------------------------------------------------------\n",
      "Intercept           -3.1803      0.658     -4.834      0.000      -4.470      -1.891\n",
      "total_governance     0.1548      0.073      2.117      0.034       0.011       0.298\n",
      "nmc                -13.3218      8.062     -1.652      0.098     -29.123       2.479\n",
      "gdppc               -0.3333      1.185     -0.281      0.779      -2.656       1.990\n",
      "OrgGov               0.6749      0.413      1.634      0.102      -0.134       1.484\n",
      "====================================================================================\n"
     ]
    }
   ],
   "source": [
    "model1 = Logit.from_formula('reb_intervention ~ total_governance + nmc + gdppc + OrgGov', \n",
    "                                                      data = rebel_cluster)\n",
    "results1 = model1.fit(method = 'lbfgs', maxiter = 1000,cov_type = 'cluster', cov_kwds = {'groups': rebel_cluster['SideB']})\n",
    "print(results1.summary())"
   ]
  },
  {
   "cell_type": "code",
   "execution_count": 14,
   "metadata": {},
   "outputs": [
    {
     "name": "stdout",
     "output_type": "stream",
     "text": [
      "Optimization terminated successfully.\n",
      "         Current function value: 0.297589\n",
      "         Iterations 7\n",
      "                           Logit Regression Results                           \n",
      "==============================================================================\n",
      "Dep. Variable:       gov_intervention   No. Observations:                 3983\n",
      "Model:                          Logit   Df Residuals:                     3980\n",
      "Method:                           MLE   Df Model:                            2\n",
      "Date:                Wed, 09 Nov 2022   Pseudo R-squ.:                0.001971\n",
      "Time:                        17:16:52   Log-Likelihood:                -1185.3\n",
      "converged:                       True   LL-Null:                       -1187.6\n",
      "Covariance Type:            nonrobust   LLR p-value:                   0.09630\n",
      "====================================================================================\n",
      "                       coef    std err          z      P>|z|      [0.025      0.975]\n",
      "------------------------------------------------------------------------------------\n",
      "Intercept           -2.3156      0.062    -37.215      0.000      -2.438      -2.194\n",
      "total_governance    -0.1284      0.061     -2.109      0.035      -0.248      -0.009\n",
      "polit_governance     0.3622      0.185      1.958      0.050      -0.000       0.725\n",
      "====================================================================================\n"
     ]
    }
   ],
   "source": [
    "model1 = Logit.from_formula('gov_intervention ~ total_governance + polit_governance', \n",
    "                                                      data = rebel)\n",
    "results1 = model1.fit()\n",
    "print(results1.summary())"
   ]
  },
  {
   "cell_type": "markdown",
   "metadata": {},
   "source": [
    "### Model 2 <a class='anchor' id='model2'>"
   ]
  },
  {
   "cell_type": "code",
   "execution_count": 50,
   "metadata": {},
   "outputs": [],
   "source": [
    "rebel_cluster = rebel.dropna(axis=0, subset=['reb_intervention','total_governance','gdppc','nmc','gov_intervention','ArmedConflict'])"
   ]
  },
  {
   "cell_type": "code",
   "execution_count": 51,
   "metadata": {},
   "outputs": [
    {
     "name": "stdout",
     "output_type": "stream",
     "text": [
      "                           Logit Regression Results                           \n",
      "==============================================================================\n",
      "Dep. Variable:       reb_intervention   No. Observations:                 3862\n",
      "Model:                          Logit   Df Residuals:                     3858\n",
      "Method:                           MLE   Df Model:                            3\n",
      "Date:                Mon, 24 Oct 2022   Pseudo R-squ.:                 0.06565\n",
      "Time:                        18:31:44   Log-Likelihood:                -636.92\n",
      "converged:                       True   LL-Null:                       -681.67\n",
      "Covariance Type:              cluster   LLR p-value:                 2.808e-19\n",
      "====================================================================================\n",
      "                       coef    std err          z      P>|z|      [0.025      0.975]\n",
      "------------------------------------------------------------------------------------\n",
      "Intercept           -3.5259      0.215    -16.371      0.000      -3.948      -3.104\n",
      "total_governance     0.2139      0.063      3.400      0.001       0.091       0.337\n",
      "gov_intervention     1.2885      0.320      4.026      0.000       0.661       1.916\n",
      "nmc                -10.3457      7.504     -1.379      0.168     -25.053       4.362\n",
      "====================================================================================\n"
     ]
    }
   ],
   "source": [
    "model2 = Logit.from_formula('reb_intervention ~ total_governance  + gov_intervention + nmc', \n",
    "                                                      data = rebel_cluster)\n",
    "results2 = model2.fit(method = 'lbfgs', maxiter = 1000,cov_type = 'cluster', cov_kwds = {'groups': rebel_cluster['SideB']})\n",
    "print(results2.summary())"
   ]
  },
  {
   "cell_type": "markdown",
   "metadata": {},
   "source": [
    "### Model 3 <a class='anchor' id='model3'>"
   ]
  },
  {
   "cell_type": "code",
   "execution_count": 52,
   "metadata": {},
   "outputs": [],
   "source": [
    "rebel_cluster = rebel.dropna(axis=0, subset=['reb_intervention','lag','total_governance','gdppc','nmc','gov_intervention','ArmedConflict','territorial'])"
   ]
  },
  {
   "cell_type": "code",
   "execution_count": 53,
   "metadata": {
    "scrolled": true
   },
   "outputs": [
    {
     "name": "stdout",
     "output_type": "stream",
     "text": [
      "                           Logit Regression Results                           \n",
      "==============================================================================\n",
      "Dep. Variable:       reb_intervention   No. Observations:                 3862\n",
      "Model:                          Logit   Df Residuals:                     3853\n",
      "Method:                           MLE   Df Model:                            8\n",
      "Date:                Mon, 24 Oct 2022   Pseudo R-squ.:                  0.3626\n",
      "Time:                        18:31:47   Log-Likelihood:                -434.48\n",
      "converged:                       True   LL-Null:                       -681.67\n",
      "Covariance Type:              cluster   LLR p-value:                1.134e-101\n",
      "====================================================================================\n",
      "                       coef    std err          z      P>|z|      [0.025      0.975]\n",
      "------------------------------------------------------------------------------------\n",
      "Intercept           -4.8336      0.571     -8.466      0.000      -5.953      -3.715\n",
      "total_governance     0.1485      0.050      2.964      0.003       0.050       0.247\n",
      "gov_intervention     1.2218      0.280      4.363      0.000       0.673       1.771\n",
      "ArmedConflict        0.9260      0.236      3.925      0.000       0.464       1.388\n",
      "Years               -0.0462      0.021     -2.166      0.030      -0.088      -0.004\n",
      "gdppc                0.1538      0.230      0.669      0.503      -0.297       0.604\n",
      "territorial          0.2255      0.254      0.886      0.375      -0.273       0.724\n",
      "lag                  4.0079      0.299     13.390      0.000       3.421       4.595\n",
      "Cold_war            -0.1793      0.238     -0.752      0.452      -0.646       0.288\n",
      "====================================================================================\n"
     ]
    }
   ],
   "source": [
    "model3 = Logit.from_formula('reb_intervention ~ total_governance +    gov_intervention + ArmedConflict + Years + gdppc + territorial + lag + Cold_war', \n",
    "                                                      data = rebel_cluster)\n",
    "results = model3.fit(method = 'lbfgs', maxiter = 1000,cov_type = 'cluster', cov_kwds = {'groups': rebel_cluster['SideB']})\n",
    "print(results.summary())"
   ]
  },
  {
   "cell_type": "markdown",
   "metadata": {},
   "source": [
    "## Graphics <a class='anchor' id='graphics'>"
   ]
  },
  {
   "cell_type": "markdown",
   "metadata": {},
   "source": [
    "* [Table of contents](#table)"
   ]
  },
  {
   "cell_type": "code",
   "execution_count": 18,
   "metadata": {},
   "outputs": [],
   "source": [
    "X = rebel_cluster[['total_governance', 'nmc','gdppc','gov_intervention','ArmedConflict','Years','territorial']]\n",
    "X = add_constant(X)\n",
    "X.rename(columns = {'const':'Intercept'}, inplace = True)\n",
    "data_plot = X.copy()\n",
    "varlist_binary = ['gov_intervention','ArmedConflict','territorial']\n",
    "varlist_continuous = ['gdppc','nmc','Years']\n",
    "for x in varlist_binary:\n",
    "    mean = np.mean(data_plot[x])\n",
    "    if mean>0.5:\n",
    "        data_plot[x] = 1\n",
    "    else:\n",
    "        data_plot[x] = 0\n",
    "for x in varlist_continuous:\n",
    "    data_plot[x] = np.mean(data_plot[x])"
   ]
  },
  {
   "cell_type": "code",
   "execution_count": 19,
   "metadata": {},
   "outputs": [],
   "source": [
    "standard_errors = np.dot(data_indvars, variance_covariance)\n",
    "standard_errors = np.dot(standard_errors, np.transpose(data_indvars))\n",
    "standard_errors = np.sqrt(np.diag(standard_errors))"
   ]
  },
  {
   "cell_type": "code",
   "execution_count": 20,
   "metadata": {},
   "outputs": [
    {
     "data": {
      "image/png": "[encoded data removed]",
      "text/plain": [
       "<Figure size 640x480 with 1 Axes>"
      ]
     },
     "metadata": {},
     "output_type": "display_data"
    },
    {
     "name": "stdout",
     "output_type": "stream",
     "text": [
      "<ggplot: (126752524535)>\n"
     ]
    }
   ],
   "source": [
    "variance_covariance = results.cov_params()\n",
    "data_indvars = data_plot\n",
    "log_odds = np.dot(data_indvars, results.params)\n",
    "standard_errors = np.dot(data_indvars, variance_covariance)\n",
    "standard_errors = np.dot(standard_errors, np.transpose(data_indvars))\n",
    "standard_errors = np.sqrt(np.diag(standard_errors))\n",
    "ub = logistic_cdf(log_odds + 1.96*standard_errors)\n",
    "lb = logistic_cdf(log_odds - 1.96*standard_errors)\n",
    "data_plotting = pd.DataFrame({'Predicted Probabilities': logistic_cdf(log_odds),\n",
    "                              'ub': ub,\n",
    "                              'lb': lb,\n",
    "                              'Rebel Governance': data_plot['total_governance']})\n",
    "plot = (ggplot(data_plotting, aes(x = 'Rebel Governance'))+\n",
    "        geom_line(aes(y = 'Predicted Probabilities'), linetype = 'solid', colour = 'black')+\n",
    "        geom_line(aes(y = 'ub'), linetype = 'dashed', colour = 'black') +\n",
    "        geom_line(aes(y = 'lb'), linetype = 'dashed', colour = 'black') +\n",
    "        geom_hline(yintercept=ub.min(), color = \"red\", size=0.5, linetype = 'dashed') +\n",
    "        theme_bw()) \n",
    "print(plot)"
   ]
  },
  {
   "cell_type": "markdown",
   "metadata": {},
   "source": [
    "## Model with interaction <a class='anchor' id='interaction'>"
   ]
  },
  {
   "cell_type": "markdown",
   "metadata": {},
   "source": [
    "* [Table of contents](#table)"
   ]
  },
  {
   "cell_type": "code",
   "execution_count": 22,
   "metadata": {},
   "outputs": [],
   "source": [
    "rebel = pd.read_csv('data_vkr2.csv')\n",
    "regan = pd.read_csv('regan.csv')\n",
    "regan.drop(columns = ['Unnamed: 0','Unnamed: 0.1','Unnamed: 0.1.1'], inplace = True)\n",
    "new_data = pd.read_excel('additional.xlsx')\n",
    "polity = pd.read_excel('polity_5.xls')\n",
    "polity = polity[polity['polity'] > -10]\n",
    "polity = polity[polity['year'] >= 1945]\n",
    "polity = polity[['ccode','year','polity']]\n",
    "polity.rename(columns = {'ccode':'thrdpar_code','year':'Year'},inplace = True)\n",
    "for i in range(len(regan['thrdpar'])):\n",
    "        if regan.loc[i,'target'] == 2:\n",
    "            rebel.loc[(rebel['Year'] == regan.loc[i,'start_year']) & (rebel['CCD'] == regan.loc[i,'ccode']),'thrdpar_code'] =  regan.loc[i,'thrdpar']\n",
    "            \n",
    "for i in range(len(new_data['country'])):\n",
    "    if regan.loc[i,'target'] == 2:\n",
    "        rebel.loc[(rebel['Year'] == new_data.loc[i,'year']) & (rebel['CCD'] == new_data.loc[i,'ccode ']) & (rebel['SideB'] == new_data.loc[i,'SideB']),'thrdpar_code'] = new_data.loc[i,'ccode2']\n",
    "        \n",
    "rebel = rebel.merge(polity, on = ['Year','thrdpar_code'], how = 'left')\n",
    "rebel['gdppc'] = np.log(rebel['gdppc'] + 1)"
   ]
  },
  {
   "cell_type": "markdown",
   "metadata": {},
   "source": [
    "### Model 2.1 <a class='anchor' id='model2.1'>"
   ]
  },
  {
   "cell_type": "code",
   "execution_count": 23,
   "metadata": {},
   "outputs": [
    {
     "name": "stdout",
     "output_type": "stream",
     "text": [
      "Optimization terminated successfully.\n",
      "         Current function value: 0.534960\n",
      "         Iterations 6\n",
      "                           Logit Regression Results                           \n",
      "==============================================================================\n",
      "Dep. Variable:       reb_intervention   No. Observations:                  311\n",
      "Model:                          Logit   Df Residuals:                      305\n",
      "Method:                           MLE   Df Model:                            5\n",
      "Date:                Fri, 03 Jun 2022   Pseudo R-squ.:                  0.1415\n",
      "Time:                        16:27:43   Log-Likelihood:                -166.37\n",
      "converged:                       True   LL-Null:                       -193.79\n",
      "Covariance Type:            nonrobust   LLR p-value:                 1.407e-10\n",
      "===========================================================================================\n",
      "                              coef    std err          z      P>|z|      [0.025      0.975]\n",
      "-------------------------------------------------------------------------------------------\n",
      "Intercept                  -2.2164      0.587     -3.776      0.000      -3.367      -1.066\n",
      "total_governance            0.4136      0.093      4.450      0.000       0.231       0.596\n",
      "nmc                       -12.1591      6.547     -1.857      0.063     -24.990       0.672\n",
      "gdppc                       0.1625      0.081      2.010      0.044       0.004       0.321\n",
      "polity                     -0.0712      0.023     -3.043      0.002      -0.117      -0.025\n",
      "total_governance:polity     0.0468      0.013      3.584      0.000       0.021       0.072\n",
      "===========================================================================================\n"
     ]
    }
   ],
   "source": [
    "model1 = Logit.from_formula('reb_intervention ~ total_governance + nmc + gdppc + polity + total_governance * polity', \n",
    "                                                      data = rebel)\n",
    "results1 = model1.fit()\n",
    "print(results1.summary())"
   ]
  },
  {
   "cell_type": "markdown",
   "metadata": {},
   "source": [
    "### Model 2.2 <a class='anchor' id='model2.2'>"
   ]
  },
  {
   "cell_type": "code",
   "execution_count": 24,
   "metadata": {},
   "outputs": [
    {
     "name": "stdout",
     "output_type": "stream",
     "text": [
      "Optimization terminated successfully.\n",
      "         Current function value: 0.532609\n",
      "         Iterations 6\n",
      "                           Logit Regression Results                           \n",
      "==============================================================================\n",
      "Dep. Variable:       reb_intervention   No. Observations:                  311\n",
      "Model:                          Logit   Df Residuals:                      304\n",
      "Method:                           MLE   Df Model:                            6\n",
      "Date:                Fri, 03 Jun 2022   Pseudo R-squ.:                  0.1453\n",
      "Time:                        16:27:46   Log-Likelihood:                -165.64\n",
      "converged:                       True   LL-Null:                       -193.79\n",
      "Covariance Type:            nonrobust   LLR p-value:                 2.526e-10\n",
      "===========================================================================================\n",
      "                              coef    std err          z      P>|z|      [0.025      0.975]\n",
      "-------------------------------------------------------------------------------------------\n",
      "Intercept                  -2.4296      0.621     -3.911      0.000      -3.647      -1.212\n",
      "total_governance            0.3885      0.093      4.174      0.000       0.206       0.571\n",
      "nmc                       -10.9781      6.599     -1.664      0.096     -23.912       1.956\n",
      "gdppc                       0.1632      0.081      2.004      0.045       0.004       0.323\n",
      "polity                     -0.0738      0.024     -3.141      0.002      -0.120      -0.028\n",
      "total_governance:polity     0.0458      0.013      3.582      0.000       0.021       0.071\n",
      "ArmedConflict               0.3511      0.291      1.205      0.228      -0.220       0.922\n",
      "===========================================================================================\n"
     ]
    }
   ],
   "source": [
    "model2 = Logit.from_formula('reb_intervention ~ total_governance  +  nmc + gdppc  + polity + total_governance * polity  + ArmedConflict', \n",
    "                                                      data = rebel)\n",
    "results2 = model2.fit()\n",
    "print(results2.summary())"
   ]
  },
  {
   "cell_type": "markdown",
   "metadata": {},
   "source": [
    "### Model 2.3 <a class='anchor' id='model2.3'>"
   ]
  },
  {
   "cell_type": "code",
   "execution_count": 25,
   "metadata": {},
   "outputs": [
    {
     "name": "stdout",
     "output_type": "stream",
     "text": [
      "                           Logit Regression Results                           \n",
      "==============================================================================\n",
      "Dep. Variable:       reb_intervention   No. Observations:                  311\n",
      "Model:                          Logit   Df Residuals:                      302\n",
      "Method:                           MLE   Df Model:                            8\n",
      "Date:                Fri, 03 Jun 2022   Pseudo R-squ.:                  0.1483\n",
      "Time:                        16:27:49   Log-Likelihood:                -165.06\n",
      "converged:                       True   LL-Null:                       -193.79\n",
      "Covariance Type:            nonrobust   LLR p-value:                 1.458e-09\n",
      "===========================================================================================\n",
      "                              coef    std err          z      P>|z|      [0.025      0.975]\n",
      "-------------------------------------------------------------------------------------------\n",
      "Intercept                  -2.3624      0.617     -3.827      0.000      -3.572      -1.153\n",
      "total_governance            0.3727      0.097      3.845      0.000       0.183       0.563\n",
      "nmc                       -15.0147      7.695     -1.951      0.051     -30.097       0.068\n",
      "gdppc                       0.1388      0.084      1.658      0.097      -0.025       0.303\n",
      "polity                     -0.0728      0.024     -3.086      0.002      -0.119      -0.027\n",
      "total_governance:polity     0.0461      0.013      3.483      0.000       0.020       0.072\n",
      "ArmedConflict               0.3374      0.310      1.088      0.277      -0.270       0.945\n",
      "Years                       0.0104      0.029      0.364      0.716      -0.046       0.067\n",
      "territorial                 0.3481      0.347      1.003      0.316      -0.332       1.028\n",
      "===========================================================================================\n"
     ]
    }
   ],
   "source": [
    "model3 = Logit.from_formula('reb_intervention ~ total_governance  + nmc + gdppc + polity + total_governance * polity + ArmedConflict + Years + territorial', \n",
    "                                                      data = rebel)\n",
    "\n",
    "results = model3.fit(method = 'lbfgs', maxiter = 10000)\n",
    "print(results.summary())"
   ]
  },
  {
   "cell_type": "markdown",
   "metadata": {},
   "source": [
    "## Graphics 2 <a class='anchor' id='graphics2'>"
   ]
  },
  {
   "cell_type": "markdown",
   "metadata": {},
   "source": [
    "* [Table of contents](#table)"
   ]
  },
  {
   "cell_type": "code",
   "execution_count": 26,
   "metadata": {},
   "outputs": [],
   "source": [
    "rebel = rebel.dropna(subset=['total_governance','nmc','gdppc','polity','ArmedConflict','Years','territorial'])"
   ]
  },
  {
   "cell_type": "code",
   "execution_count": 27,
   "metadata": {},
   "outputs": [
    {
     "name": "stderr",
     "output_type": "stream",
     "text": [
      "<ipython-input-27-f92b06e74b7e>:1: SettingWithCopyWarning: \n",
      "A value is trying to be set on a copy of a slice from a DataFrame.\n",
      "Try using .loc[row_indexer,col_indexer] = value instead\n",
      "\n",
      "See the caveats in the documentation: https://pandas.pydata.org/pandas-docs/stable/user_guide/indexing.html#returning-a-view-versus-a-copy\n"
     ]
    }
   ],
   "source": [
    "rebel['interaction'] = rebel['polity']*rebel['total_governance']"
   ]
  },
  {
   "cell_type": "code",
   "execution_count": 28,
   "metadata": {},
   "outputs": [],
   "source": [
    "data_indvars = pd.DataFrame()\n",
    "rebel = rebel.reset_index()\n",
    "data_indvars['Intercept'] = [1] * len(rebel)\n",
    "data_indvars = pd.concat([data_indvars,rebel[['total_governance','nmc','gdppc','polity','interaction','ArmedConflict','Years','territorial']]], axis =1)"
   ]
  },
  {
   "cell_type": "code",
   "execution_count": 29,
   "metadata": {},
   "outputs": [],
   "source": [
    "data_indvars_2 = data_indvars.copy()\n",
    "data_indvars['total_governance'] = 1\n",
    "data_indvars['interaction'] = data_indvars['polity']\n",
    "data_indvars[['nmc','Intercept','gdppc','polity','ArmedConflict','Years','territorial']] = 0"
   ]
  },
  {
   "cell_type": "code",
   "execution_count": 30,
   "metadata": {},
   "outputs": [],
   "source": [
    "variance_covariance = results.cov_params()"
   ]
  },
  {
   "cell_type": "code",
   "execution_count": 31,
   "metadata": {},
   "outputs": [],
   "source": [
    "varlist_binary = ['ArmedConflict','territorial']\n",
    "varlist_continuous = ['total_governance','nmc','gdppc','Years']\n",
    "for x in varlist_binary:\n",
    "    mean = np.mean(data_indvars_2[x])\n",
    "    if mean>0.5:\n",
    "        data_indvars_2[x] = 1\n",
    "    else:\n",
    "        data_indvars_2[x] = 0\n",
    "for x in varlist_continuous:\n",
    "    data_indvars_2[x] = np.mean(data_indvars_2[x])\n",
    "\n",
    "data_indvars_2['interaction'] = data_indvars_2['polity'] * data_indvars_2['total_governance']"
   ]
  },
  {
   "cell_type": "code",
   "execution_count": 32,
   "metadata": {},
   "outputs": [],
   "source": [
    "data_indvars.drop_duplicates(subset = 'interaction', inplace = True)\n",
    "data_indvars_2.drop_duplicates(subset = 'interaction', inplace = True)"
   ]
  },
  {
   "cell_type": "code",
   "execution_count": 33,
   "metadata": {},
   "outputs": [
    {
     "data": {
      "image/png": "[encoded data removed]",
      "text/plain": [
       "<Figure size 640x480 with 1 Axes>"
      ]
     },
     "metadata": {},
     "output_type": "display_data"
    },
    {
     "name": "stdout",
     "output_type": "stream",
     "text": [
      "<ggplot: (126762081052)>\n"
     ]
    }
   ],
   "source": [
    "sample_normal = np.random.multivariate_normal(results.params, variance_covariance, size = 10000)\n",
    "# we sample 100000 observation with mean as our parameters and variance_covariance matrix \n",
    "# compute the matrix\n",
    "# заменить на logitstic pdf из пакета scipy (total governance = 1)\n",
    "matrix_values = logistic.pdf(np.dot(data_indvars_2, np.transpose(sample_normal)))\n",
    "matrix_values_2 = np.dot(data_indvars, np.transpose(sample_normal))\n",
    "matrix_values = matrix_values * matrix_values_2\n",
    "#второй компонент data_indvars logistic cdf, в котором все переменные установлены на 0, total governance на 1 \n",
    "#далее два вектора умножаются поэлементно (a * b)\n",
    "#calculate means, 2.5 and 97.5 percentiles\n",
    "means = np.mean(matrix_values, axis = 1)\n",
    "lb = np.percentile(matrix_values, q = 2.5, axis = 1)\n",
    "ub = np.percentile(matrix_values, q = 97.5, axis = 1)\n",
    "#plot\n",
    "data_plotting = pd.DataFrame({'Marginal effect': means,\n",
    "                              'ub': ub,\n",
    "                              'lb': lb,\n",
    "                              'Polity': data_indvars['interaction']})\n",
    "plot = (ggplot(data_plotting, aes(x = 'Polity'))+\n",
    "        geom_line(aes(y = 'Marginal effect'), linetype = 'solid', colour = 'black')+\n",
    "        geom_line(aes(y = 'ub'), linetype = 'dashed', colour = 'black') +\n",
    "        geom_line(aes(y = 'lb'), linetype = 'dashed', colour = 'black') +\n",
    "        geom_hline(yintercept=0, color = \"red\", size=0.5, linetype = 'dashed') +\n",
    "        theme_bw()) \n",
    "print(plot)"
   ]
  },
  {
   "cell_type": "markdown",
   "metadata": {},
   "source": [
    "## Instrumental Variables <a class='anchor' id='IV'>"
   ]
  },
  {
   "cell_type": "markdown",
   "metadata": {},
   "source": [
    "* [Table of contents](#table)"
   ]
  },
  {
   "cell_type": "code",
   "execution_count": 2,
   "metadata": {},
   "outputs": [],
   "source": [
    "rebel = pd.read_csv('data_vkr.csv')\n",
    "rebel['gdppc'] = np.log(rebel['gdppc'] + 1)\n",
    "felat = pd.read_csv('fel.csv')\n",
    "felat = felat[felat['year'] == 1945]\n",
    "felat = felat[['lmtnest','ccode']]\n",
    "felat.rename(columns = {'ccode':'CCD'}, inplace = True)\n",
    "\n",
    "rebel = rebel.merge(felat, on = 'CCD', how = 'left')"
   ]
  },
  {
   "cell_type": "code",
   "execution_count": 40,
   "metadata": {},
   "outputs": [],
   "source": [
    "codes = pd.read_excel('all_codes.xlsx')"
   ]
  },
  {
   "cell_type": "code",
   "execution_count": 44,
   "metadata": {},
   "outputs": [],
   "source": [
    "codes = codes[['Alpha3_Code','COW_Country_Code']]\n",
    "codes.rename(columns = {'COW_Country_Code':'CCD'}, inplace = True)"
   ]
  },
  {
   "cell_type": "code",
   "execution_count": 23,
   "metadata": {},
   "outputs": [],
   "source": [
    "instruments = pd.read_excel('instruments.xlsx')\n",
    "# codes = pd.read_excel('all_codes.xlsx')"
   ]
  },
  {
   "cell_type": "code",
   "execution_count": 45,
   "metadata": {},
   "outputs": [],
   "source": [
    "rain = pd.read_excel('rainfall.xlsx')"
   ]
  },
  {
   "cell_type": "code",
   "execution_count": 46,
   "metadata": {},
   "outputs": [],
   "source": [
    "rain.rename(columns = {'Time':'Year','Average precipitation in depth (mm per year) [AG.LND.PRCP.MM]':'rainfall', 'Country Code':'Alpha3_Code'}, inplace = True)"
   ]
  },
  {
   "cell_type": "code",
   "execution_count": 47,
   "metadata": {},
   "outputs": [],
   "source": [
    "for i in [1960,1961,1963,1964,1965,1966]:\n",
    "    rain.loc[rain['Year'] == i,'rainfall'] = rain.loc[rain['Year'] == 1962,'rainfall'].values\n",
    "for i in range(1968,1972):\n",
    "    rain.loc[rain['Year'] == i,'rainfall'] = rain.loc[rain['Year'] == 1967,'rainfall'].values\n",
    "for i in range(1973,1977):\n",
    "    rain.loc[rain['Year'] == i,'rainfall'] = rain.loc[rain['Year'] == 1972,'rainfall'].values\n",
    "for i in range(1978,1982):\n",
    "    rain.loc[rain['Year'] == i,'rainfall'] = rain.loc[rain['Year'] == 1977,'rainfall'].values\n",
    "for i in range(1983,1987):\n",
    "    rain.loc[rain['Year'] == i,'rainfall'] = rain.loc[rain['Year'] == 1982,'rainfall'].values\n",
    "for i in range(1988,1992): \n",
    "    rain.loc[rain['Year'] == i,'rainfall'] = rain.loc[rain['Year'] == 1987,'rainfall'].values\n",
    "for i in range(1993,1997):\n",
    "    rain.loc[rain['Year'] == i,'rainfall'] = rain.loc[rain['Year'] == 1992,'rainfall'].values\n",
    "for i in range(1998,2002):\n",
    "    rain.loc[rain['Year'] == i,'rainfall'] = rain.loc[rain['Year'] == 1997,'rainfall'].values\n",
    "for i in range(2003,2007):\n",
    "    rain.loc[rain['Year'] == i,'rainfall'] = rain.loc[rain['Year'] == 2002,'rainfall'].values\n",
    "for i in range(2008,2012):\n",
    "    rain.loc[rain['Year'] == i,'rainfall'] = rain.loc[rain['Year'] == 2007,'rainfall'].values\n",
    "for i in range(2013,2017):\n",
    "    rain.loc[rain['Year'] == i,'rainfall'] = rain.loc[rain['Year'] == 2012,'rainfall'].values"
   ]
  },
  {
   "cell_type": "code",
   "execution_count": 49,
   "metadata": {},
   "outputs": [],
   "source": [
    "rain = rain[['Year','Alpha3_Code','rainfall']]"
   ]
  },
  {
   "cell_type": "code",
   "execution_count": 51,
   "metadata": {},
   "outputs": [],
   "source": [
    "rain = rain.merge(codes, on = 'Alpha3_Code')"
   ]
  },
  {
   "cell_type": "code",
   "execution_count": 52,
   "metadata": {},
   "outputs": [],
   "source": [
    "iv = pd.read_csv('iv.csv')"
   ]
  },
  {
   "cell_type": "code",
   "execution_count": 56,
   "metadata": {},
   "outputs": [],
   "source": [
    "iv = iv.merge(rain, on = ['Year','CCD'])"
   ]
  },
  {
   "cell_type": "code",
   "execution_count": 57,
   "metadata": {},
   "outputs": [],
   "source": [
    "iv.to_csv('iv.csv', index = False)"
   ]
  },
  {
   "cell_type": "code",
   "execution_count": 16,
   "metadata": {},
   "outputs": [],
   "source": [
    "rain.to_excel('rainy.xlsx', index = False)"
   ]
  },
  {
   "cell_type": "code",
   "execution_count": 27,
   "metadata": {},
   "outputs": [],
   "source": [
    "rebel = rebel.merge(instruments, on = ['CCD','Year'])"
   ]
  },
  {
   "cell_type": "code",
   "execution_count": 34,
   "metadata": {},
   "outputs": [],
   "source": [
    "def ivregress(DV, endogenous_variable, instrument, exog, data):\n",
    "    data['Intercept'] = 1\n",
    "    data_estimation_1 = data[['Intercept'] + [instrument] + exog]\n",
    "    model_1 = OLS(endog = data[endogenous_variable], exog = data_estimation_1, missing = \"drop\")\n",
    "    results_1 = model_1.fit()\n",
    "    #obtain predictions\n",
    "    data[endogenous_variable + \"iv\"] = np.dot(data_estimation_1, results_1.params)\n",
    "    #create estimation dataset for the second stage\n",
    "    data_estimation_2 = data[['Intercept'] + [endogenous_variable + \"iv\"] + exog]\n",
    "    # заменить на linear probability model \n",
    "    model_2 = OLS(endog = data[DV], exog = data_estimation_2, missing = \"drop\")\n",
    "    results_2 = model_2.fit()\n",
    "    return (results_2, results_1)"
   ]
  },
  {
   "cell_type": "code",
   "execution_count": 60,
   "metadata": {},
   "outputs": [],
   "source": [
    "rebel.to_csv('IV.csv', index = False)"
   ]
  },
  {
   "cell_type": "code",
   "execution_count": 42,
   "metadata": {},
   "outputs": [
    {
     "name": "stdout",
     "output_type": "stream",
     "text": [
      "                            OLS Regression Results                            \n",
      "==============================================================================\n",
      "Dep. Variable:       reb_intervention   R-squared:                       0.033\n",
      "Model:                            OLS   Adj. R-squared:                  0.031\n",
      "Method:                 Least Squares   F-statistic:                     18.66\n",
      "Date:                Fri, 28 Oct 2022   Prob (F-statistic):           1.27e-24\n",
      "Time:                        12:45:50   Log-Likelihood:                 600.24\n",
      "No. Observations:                3834   AIC:                            -1184.\n",
      "Df Residuals:                    3826   BIC:                            -1134.\n",
      "Df Model:                           7                                         \n",
      "Covariance Type:            nonrobust                                         \n",
      "======================================================================================\n",
      "                         coef    std err          t      P>|t|      [0.025      0.975]\n",
      "--------------------------------------------------------------------------------------\n",
      "Intercept             -0.0028      0.016     -0.171      0.865      -0.035       0.029\n",
      "total_governanceiv     0.0313      0.023      1.372      0.170      -0.013       0.076\n",
      "nmc                   -0.7111      0.217     -3.270      0.001      -1.137      -0.285\n",
      "gdppc                  0.0039      0.002      1.797      0.072      -0.000       0.008\n",
      "gov_intervention       0.0722      0.014      5.272      0.000       0.045       0.099\n",
      "ArmedConflict          0.0485      0.007      6.615      0.000       0.034       0.063\n",
      "Years                 -0.0045      0.002     -2.266      0.024      -0.008      -0.001\n",
      "territorial           -0.0023      0.025     -0.093      0.926      -0.051       0.046\n",
      "==============================================================================\n",
      "Omnibus:                     3154.385   Durbin-Watson:                   1.671\n",
      "Prob(Omnibus):                  0.000   Jarque-Bera (JB):            49524.678\n",
      "Skew:                           4.102   Prob(JB):                         0.00\n",
      "Kurtosis:                      18.579   Cond. No.                         758.\n",
      "==============================================================================\n",
      "\n",
      "Notes:\n",
      "[1] Standard Errors assume that the covariance matrix of the errors is correctly specified.\n"
     ]
    }
   ],
   "source": [
    "data_estimation = rebel.copy()\n",
    "results = ivregress('reb_intervention', 'total_governance', 'pop_density', \n",
    "                ['nmc','gdppc','gov_intervention','ArmedConflict','Years','territorial'], data_estimation)\n",
    "print(results[0].summary())"
   ]
  },
  {
   "cell_type": "code",
   "execution_count": 43,
   "metadata": {},
   "outputs": [
    {
     "name": "stdout",
     "output_type": "stream",
     "text": [
      "                            OLS Regression Results                            \n",
      "==============================================================================\n",
      "Dep. Variable:       total_governance   R-squared:                       0.170\n",
      "Model:                            OLS   Adj. R-squared:                  0.169\n",
      "Method:                 Least Squares   F-statistic:                     98.92\n",
      "Date:                Fri, 28 Oct 2022   Prob (F-statistic):          7.68e-132\n",
      "Time:                        12:45:54   Log-Likelihood:                -7059.5\n",
      "No. Observations:                3377   AIC:                         1.414e+04\n",
      "Df Residuals:                    3369   BIC:                         1.418e+04\n",
      "Df Model:                           7                                         \n",
      "Covariance Type:            nonrobust                                         \n",
      "====================================================================================\n",
      "                       coef    std err          t      P>|t|      [0.025      0.975]\n",
      "------------------------------------------------------------------------------------\n",
      "Intercept            0.5633      0.181      3.117      0.002       0.209       0.918\n",
      "pop_density         -0.1479      0.034     -4.378      0.000      -0.214      -0.082\n",
      "nmc                  9.4470      1.532      6.166      0.000       6.443      12.451\n",
      "gdppc               -0.0153      0.021     -0.724      0.469      -0.057       0.026\n",
      "gov_intervention     0.1820      0.126      1.439      0.150      -0.066       0.430\n",
      "ArmedConflict        0.0185      0.074      0.250      0.802      -0.127       0.164\n",
      "Years                0.0857      0.005     17.750      0.000       0.076       0.095\n",
      "territorial          1.1219      0.079     14.268      0.000       0.968       1.276\n",
      "==============================================================================\n",
      "Omnibus:                      859.263   Durbin-Watson:                   0.847\n",
      "Prob(Omnibus):                  0.000   Jarque-Bera (JB):             1762.835\n",
      "Skew:                           1.511   Prob(JB):                         0.00\n",
      "Kurtosis:                       4.844   Cond. No.                         544.\n",
      "==============================================================================\n",
      "\n",
      "Notes:\n",
      "[1] Standard Errors assume that the covariance matrix of the errors is correctly specified.\n"
     ]
    }
   ],
   "source": [
    "print(results[1].summary())"
   ]
  },
  {
   "cell_type": "code",
   "execution_count": 37,
   "metadata": {},
   "outputs": [
    {
     "name": "stdout",
     "output_type": "stream",
     "text": [
      "                            OLS Regression Results                            \n",
      "==============================================================================\n",
      "Dep. Variable:       reb_intervention   R-squared:                       0.033\n",
      "Model:                            OLS   Adj. R-squared:                  0.031\n",
      "Method:                 Least Squares   F-statistic:                     18.40\n",
      "Date:                Fri, 28 Oct 2022   Prob (F-statistic):           3.01e-24\n",
      "Time:                        12:44:16   Log-Likelihood:                 599.35\n",
      "No. Observations:                3834   AIC:                            -1183.\n",
      "Df Residuals:                    3826   BIC:                            -1133.\n",
      "Df Model:                           7                                         \n",
      "Covariance Type:            nonrobust                                         \n",
      "======================================================================================\n",
      "                         coef    std err          t      P>|t|      [0.025      0.975]\n",
      "--------------------------------------------------------------------------------------\n",
      "Intercept              0.0027      0.016      0.167      0.867      -0.029       0.034\n",
      "total_governanceiv     0.0032      0.011      0.302      0.763      -0.018       0.024\n",
      "nmc                   -0.5073      0.160     -3.177      0.002      -0.820      -0.194\n",
      "gdppc                  0.0029      0.002      1.404      0.160      -0.001       0.007\n",
      "gov_intervention       0.0789      0.013      6.152      0.000       0.054       0.104\n",
      "ArmedConflict          0.0490      0.007      6.686      0.000       0.035       0.063\n",
      "Years                 -0.0021      0.001     -2.093      0.036      -0.004      -0.000\n",
      "territorial            0.0266      0.013      2.013      0.044       0.001       0.053\n",
      "==============================================================================\n",
      "Omnibus:                     3156.504   Durbin-Watson:                   1.671\n",
      "Prob(Omnibus):                  0.000   Jarque-Bera (JB):            49636.754\n",
      "Skew:                           4.106   Prob(JB):                         0.00\n",
      "Kurtosis:                      18.598   Cond. No.                         553.\n",
      "==============================================================================\n",
      "\n",
      "Notes:\n",
      "[1] Standard Errors assume that the covariance matrix of the errors is correctly specified.\n"
     ]
    }
   ],
   "source": [
    "print(results[0].summary())"
   ]
  },
  {
   "cell_type": "code",
   "execution_count": 41,
   "metadata": {},
   "outputs": [],
   "source": [
    "rebel['pop_density'] = np.log(rebel['pop_density'])"
   ]
  },
  {
   "cell_type": "code",
   "execution_count": 1,
   "metadata": {},
   "outputs": [],
   "source": [
    "import linearmodels.iv.model as lm"
   ]
  },
  {
   "cell_type": "code",
   "execution_count": 49,
   "metadata": {},
   "outputs": [],
   "source": [
    "rebel = rebel[['nmc','gdppc','gov_intervention','ArmedConflict','Years','territorial','reb_intervention', 'total_governance', 'lmtnest',]]"
   ]
  },
  {
   "cell_type": "code",
   "execution_count": null,
   "metadata": {},
   "outputs": [],
   "source": [
    "def ivregress(DV, endogenous_variable, instrument, exog, data):\n",
    "    data['Intercept'] = 1\n",
    "    data_estimation_1 = data[['Intercept'] + [instrument] + exog]\n",
    "    model_1 = OLS(endog = data[endogenous_variable], exog = data_estimation_1, missing = \"drop\")\n",
    "    results_1 = model_1.fit()\n",
    "    #obtain predictions\n",
    "    data[endogenous_variable + \"iv\"] = np.dot(data_estimation_1, results_1.params)\n",
    "    #create estimation dataset for the second stage\n",
    "    data_estimation_2 = data[['Intercept'] + [endogenous_variable + \"iv\"] + exog]\n",
    "    # заменить на linear probability model \n",
    "    model_2 = OLS(endog = data[DV], exog = data_estimation_2, missing = \"drop\")\n",
    "    results_2 = model_2.fit()\n",
    "    return (results_2, results_1)"
   ]
  },
  {
   "cell_type": "code",
   "execution_count": null,
   "metadata": {},
   "outputs": [],
   "source": [
    "data_estimation = rebel.copy()\n",
    "results = ivregress('reb_intervention', 'total_governance', 'lmtnest', \n",
    "                ['nmc','gdppc','gov_intervention','ArmedConflict','Years','territorial'], data_estimation)\n",
    "print(results[0].summary())"
   ]
  },
  {
   "cell_type": "code",
   "execution_count": 54,
   "metadata": {},
   "outputs": [
    {
     "name": "stderr",
     "output_type": "stream",
     "text": [
      "C:\\Users\\Acer\\anaconda3\\lib\\site-packages\\linearmodels\\shared\\exceptions.py:35: MissingValueWarning: \n",
      "Inputs contain missing values. Dropping rows with missing observations.\n"
     ]
    }
   ],
   "source": [
    "# rebel = add_constant(rebel)\n",
    "model_iv_lm = lm.IV2SLS(dependent=rebel[\"reb_intervention\"], exog=rebel[['nmc','gdppc','gov_intervention','ArmedConflict','Years','territorial']], endog=rebel[\"total_governance\"], instruments=rebel[[\"lmtnest\"]]).fit(cov_type=\"homoskedastic\", debiased=True)"
   ]
  },
  {
   "cell_type": "code",
   "execution_count": 55,
   "metadata": {},
   "outputs": [
    {
     "name": "stdout",
     "output_type": "stream",
     "text": [
      "Invalid test statistic\n",
      "Test requires more instruments than endogenous variables.\n",
      "Sargan's test of overidentification\n"
     ]
    }
   ],
   "source": [
    "print(model_iv_lm.sargan)"
   ]
  },
  {
   "cell_type": "markdown",
   "metadata": {},
   "source": [
    "## IRT model <a class='anchor' id='IRT'>"
   ]
  },
  {
   "cell_type": "markdown",
   "metadata": {},
   "source": [
    "* [Table of contents](#table)"
   ]
  },
  {
   "cell_type": "code",
   "execution_count": 42,
   "metadata": {},
   "outputs": [],
   "source": [
    "rebel = pd.read_csv('data_vkr.csv')\n",
    "latent = pd.read_csv('rebel_latent.csv')\n",
    "latent = latent.reset_index()\n",
    "latent.drop(columns = ['index'], inplace = True)\n",
    "rebel.dropna(axis=0, subset=['Education','Health','Aid','Housing','Law','Infrastructure','Transportation','Justice','Policing'], inplace = True)\n",
    "rebel = rebel.reset_index()\n",
    "rebel = rebel.join(latent)\n",
    "rebel.rename(columns = {'obs,\"xim\"':'rebel_latent'}, inplace = True)\n",
    "rebel['gdppc'] = np.log(rebel['gdppc'] + 1)"
   ]
  },
  {
   "cell_type": "code",
   "execution_count": 43,
   "metadata": {},
   "outputs": [],
   "source": [
    "rebel['total_governance'] = rebel['rebel_latent']"
   ]
  },
  {
   "cell_type": "markdown",
   "metadata": {},
   "source": [
    "### Model 3.1 <a class='anchor' id='model3.1'>"
   ]
  },
  {
   "cell_type": "code",
   "execution_count": 44,
   "metadata": {},
   "outputs": [
    {
     "name": "stdout",
     "output_type": "stream",
     "text": [
      "                           Logit Regression Results                           \n",
      "==============================================================================\n",
      "Dep. Variable:       reb_intervention   No. Observations:                 3951\n",
      "Model:                          Logit   Df Residuals:                     3947\n",
      "Method:                           MLE   Df Model:                            3\n",
      "Date:                Fri, 03 Jun 2022   Pseudo R-squ.:                 0.04689\n",
      "Time:                        16:28:22   Log-Likelihood:                -665.26\n",
      "converged:                       True   LL-Null:                       -697.99\n",
      "Covariance Type:              cluster   LLR p-value:                 3.991e-14\n",
      "====================================================================================\n",
      "                       coef    std err          z      P>|z|      [0.025      0.975]\n",
      "------------------------------------------------------------------------------------\n",
      "Intercept           -3.8155      0.966     -3.949      0.000      -5.709      -1.922\n",
      "total_governance     1.1144      0.367      3.036      0.002       0.395       1.834\n",
      "nmc                -15.5583      8.463     -1.838      0.066     -32.145       1.029\n",
      "gdppc                0.0888      0.120      0.738      0.460      -0.147       0.324\n",
      "====================================================================================\n"
     ]
    }
   ],
   "source": [
    "rebel_cluster = rebel.dropna(axis=0, subset=['reb_intervention','gdppc','nmc'])\n",
    "model1 = Logit.from_formula('reb_intervention ~ total_governance + nmc + gdppc', \n",
    "                                                      data = rebel_cluster)\n",
    "results1 = model1.fit(method = 'lbfgs', maxiter = 1000,cov_type = 'cluster', cov_kwds = {'groups': rebel_cluster['SideB']})\n",
    "print(results1.summary())"
   ]
  },
  {
   "cell_type": "markdown",
   "metadata": {},
   "source": [
    "### Model 3.2 <a class='anchor' id='model3.2'>"
   ]
  },
  {
   "cell_type": "code",
   "execution_count": 45,
   "metadata": {},
   "outputs": [
    {
     "name": "stdout",
     "output_type": "stream",
     "text": [
      "                           Logit Regression Results                           \n",
      "==============================================================================\n",
      "Dep. Variable:       reb_intervention   No. Observations:                 3862\n",
      "Model:                          Logit   Df Residuals:                     3856\n",
      "Method:                           MLE   Df Model:                            5\n",
      "Date:                Fri, 03 Jun 2022   Pseudo R-squ.:                 0.09088\n",
      "Time:                        16:28:24   Log-Likelihood:                -619.72\n",
      "converged:                       True   LL-Null:                       -681.67\n",
      "Covariance Type:              cluster   LLR p-value:                 4.692e-25\n",
      "====================================================================================\n",
      "                       coef    std err          z      P>|z|      [0.025      0.975]\n",
      "------------------------------------------------------------------------------------\n",
      "Intercept           -4.8767      1.268     -3.847      0.000      -7.361      -2.392\n",
      "total_governance     1.0834      0.391      2.769      0.006       0.317       1.850\n",
      "nmc                -10.1546      7.955     -1.277      0.202     -25.745       5.436\n",
      "gdppc                0.1440      0.162      0.890      0.373      -0.173       0.461\n",
      "gov_intervention     1.0314      0.283      3.644      0.000       0.477       1.586\n",
      "ArmedConflict        0.8649      0.272      3.178      0.001       0.332       1.398\n",
      "====================================================================================\n"
     ]
    }
   ],
   "source": [
    "rebel_cluster = rebel.dropna(axis=0, subset=['reb_intervention','gdppc','nmc','gov_intervention','ArmedConflict'])\n",
    "\n",
    "\n",
    "model2 = Logit.from_formula('reb_intervention ~ total_governance   +  nmc + gdppc  + gov_intervention + ArmedConflict', \n",
    "                                                      data = rebel_cluster)\n",
    "results2 = model2.fit(method = 'lbfgs', maxiter = 1000,cov_type = 'cluster', cov_kwds = {'groups': rebel_cluster['SideB']})\n",
    "print(results2.summary())"
   ]
  },
  {
   "cell_type": "markdown",
   "metadata": {},
   "source": [
    "### Model 3.3 <a class='anchor' id='model3.3'>"
   ]
  },
  {
   "cell_type": "code",
   "execution_count": 46,
   "metadata": {},
   "outputs": [
    {
     "name": "stdout",
     "output_type": "stream",
     "text": [
      "                           Logit Regression Results                           \n",
      "==============================================================================\n",
      "Dep. Variable:       reb_intervention   No. Observations:                 3862\n",
      "Model:                          Logit   Df Residuals:                     3854\n",
      "Method:                           MLE   Df Model:                            7\n",
      "Date:                Fri, 03 Jun 2022   Pseudo R-squ.:                  0.1014\n",
      "Time:                        16:28:25   Log-Likelihood:                -612.52\n",
      "converged:                       True   LL-Null:                       -681.67\n",
      "Covariance Type:              cluster   LLR p-value:                 1.159e-26\n",
      "====================================================================================\n",
      "                       coef    std err          z      P>|z|      [0.025      0.975]\n",
      "------------------------------------------------------------------------------------\n",
      "Intercept           -4.7774      1.167     -4.092      0.000      -7.065      -2.489\n",
      "total_governance     1.1719      0.436      2.688      0.007       0.317       2.026\n",
      "gdppc                0.1463      0.149      0.981      0.327      -0.146       0.439\n",
      "nmc                -11.7653      8.021     -1.467      0.142     -27.486       3.955\n",
      "gov_intervention     0.9844      0.280      3.515      0.000       0.435       1.533\n",
      "ArmedConflict        1.0424      0.284      3.670      0.000       0.486       1.599\n",
      "Years               -0.0479      0.026     -1.825      0.068      -0.099       0.004\n",
      "territorial          0.1550      0.337      0.459      0.646      -0.506       0.816\n",
      "====================================================================================\n"
     ]
    }
   ],
   "source": [
    "rebel_cluster = rebel.dropna(axis=0, subset=['reb_intervention','gdppc','nmc','gov_intervention','ArmedConflict','territorial'])\n",
    "\n",
    "model3 = Logit.from_formula('reb_intervention ~ total_governance +  gdppc + nmc + gov_intervention + ArmedConflict + Years + territorial', \n",
    "                                                      data = rebel_cluster)\n",
    "results3 = model3.fit(method = 'lbfgs', maxiter = 1000,cov_type = 'cluster', cov_kwds = {'groups': rebel_cluster['SideB']})\n",
    "print(results3.summary())"
   ]
  },
  {
   "cell_type": "markdown",
   "metadata": {},
   "source": [
    "## Graphics 3 <a class='anchor' id='graphics3'>"
   ]
  },
  {
   "cell_type": "markdown",
   "metadata": {},
   "source": [
    "* [Table of contents](#table)"
   ]
  },
  {
   "cell_type": "code",
   "execution_count": 4,
   "metadata": {},
   "outputs": [],
   "source": [
    "X = rebel_cluster[['rebel_latent', 'gdppc','nmc', 'gov_intervention','ArmedConflict','Years','territorial','NationalGov']]\n",
    "X = add_constant(X)\n",
    "X.rename(columns = {'const':'Intercept'}, inplace = True)\n",
    "data_plot = X.copy()\n",
    "varlist_binary = ['gov_intervention','ArmedConflict','territorial','NationalGov']\n",
    "varlist_continuous = ['gdppc','nmc','Years']\n",
    "for x in varlist_binary:\n",
    "    mean = np.mean(data_plot[x])\n",
    "    if mean>0.5:\n",
    "        data_plot[x] = 1\n",
    "    else:\n",
    "        data_plot[x] = 0\n",
    "for x in varlist_continuous:\n",
    "    data_plot[x] = np.mean(data_plot[x])"
   ]
  },
  {
   "cell_type": "code",
   "execution_count": 5,
   "metadata": {},
   "outputs": [],
   "source": [
    "variance_covariance = results.cov_params()\n",
    "data_indvars = data_plot\n",
    "log_odds = np.dot(data_indvars, results.params)\n",
    "standard_errors = np.dot(data_indvars, variance_covariance)\n",
    "standard_errors = np.dot(standard_errors, np.transpose(data_indvars))\n",
    "standard_errors = np.sqrt(np.diag(standard_errors))"
   ]
  },
  {
   "cell_type": "code",
   "execution_count": 105,
   "metadata": {},
   "outputs": [
    {
     "data": {
      "image/png": "[encoded data removed]",
      "text/plain": [
       "<Figure size 640x480 with 1 Axes>"
      ]
     },
     "metadata": {},
     "output_type": "display_data"
    },
    {
     "name": "stdout",
     "output_type": "stream",
     "text": [
      "<ggplot: (97340579190)>\n"
     ]
    }
   ],
   "source": [
    "data_plotting = pd.DataFrame({'Predicted Probabilities': logistic_cdf(log_odds),\n",
    "                              'ub': logistic_cdf(log_odds + 1.96*standard_errors),\n",
    "                              'lb': logistic_cdf(log_odds - 1.96*standard_errors),\n",
    "                              'Rebel Governance': data_plot['rebel_latent']})\n",
    "plot = (ggplot(data_plotting, aes(x = 'Rebel Governance'))+\n",
    "        geom_line(aes(y = 'Predicted Probabilities'), linetype = 'solid', colour = 'black')+\n",
    "        geom_line(aes(y = 'ub'), linetype = 'dashed', colour = 'black') +\n",
    "        geom_line(aes(y = 'lb'), linetype = 'dashed', colour = 'black') +\n",
    "        theme_bw()) \n",
    "print(plot)"
   ]
  },
  {
   "cell_type": "markdown",
   "metadata": {},
   "source": []
  }
 ],
 "metadata": {
  "kernelspec": {
   "display_name": "Python 3 (ipykernel)",
   "language": "python",
   "name": "python3"
  },
  "language_info": {
   "codemirror_mode": {
    "name": "ipython",
    "version": 3
   },
   "file_extension": ".py",
   "mimetype": "text/x-python",
   "name": "python",
   "nbconvert_exporter": "python",
   "pygments_lexer": "ipython3",
   "version": "3.9.13"
  }
 },
 "nbformat": 4,
 "nbformat_minor": 4
}
